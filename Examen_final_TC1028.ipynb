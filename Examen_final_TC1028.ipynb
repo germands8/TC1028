{
  "nbformat": 4,
  "nbformat_minor": 0,
  "metadata": {
    "colab": {
      "name": "Examen final TC1028.ipynb",
      "provenance": [],
      "authorship_tag": "ABX9TyMhnHLUpnA4d8Te0RxW4YIg"
    },
    "kernelspec": {
      "name": "python3",
      "display_name": "Python 3"
    }
  },
  "cells": [
    {
      "cell_type": "markdown",
      "metadata": {
        "id": "q9mFxl2qK5mM"
      },
      "source": [
        "## **Examen final TC1028**"
      ]
    },
    {
      "cell_type": "markdown",
      "metadata": {
        "id": "NIZ1eeCCLpYf"
      },
      "source": [
        "Parte 1: Menú leído desde archivo"
      ]
    },
    {
      "cell_type": "code",
      "metadata": {
        "id": "3V6jT2Gm30ha",
        "outputId": "ba128a9d-4484-40e7-f737-41dda2e72f0d",
        "colab": {
          "base_uri": "https://localhost:8080/",
          "height": 224
        }
      },
      "source": [
        "f = open(\"menu.csv\", \"r\") # abrir archivo\n",
        "\n",
        "menu = [] # crear lista de menú para guardar las filas(comidas) del archivo\n",
        "\n",
        "while True:\n",
        "\n",
        "  linea = f.readline() # leer linea por línea en cada ciclo\n",
        " \n",
        "  if len(linea) == 0: # si la línea no tiene datos se detiene el while\n",
        "    break\n",
        "  \n",
        "  comida = linea.split(\",\") # separar las columnas de la línea con ,\n",
        "  \n",
        "  menu.append(comida) # agregar la lista de comida con los 3 datos separados al menú\n",
        "\n",
        "f.close() # cerrar archivo\n",
        "\n",
        "print(\"Menú disponible:\", \"ID \"+\"Comida \"+ \"Precio\", sep=\"\\n\") # imprimir encabezado del menú\n",
        "for i in range(1,len(menu)): # recorrer la lista del menú de 1 hasta el tamaño del menú\n",
        "  print(menu[i][0], \"-\", menu[i][1], \"$\" + str(menu[i][2].replace(\"\\n\",\"\"))) # imprimir línea por línea con cada columna del menú, primero se indica el número de fila y luego el la columna"
      ],
      "execution_count": 29,
      "outputs": [
        {
          "output_type": "stream",
          "text": [
            "Menú disponible:\n",
            "ID Comida Precio\n",
            "1 - Orden de tacos $80\n",
            "2 - Orden de enchiladas $120\n",
            "3 - Orden de gorditas $90\n",
            "4 - Orden de flautas $130\n",
            "5 - Orden de enfrijoladas $70\n",
            "6 - Orden de sopes $70\n",
            "7 - Refresco $20\n",
            "8 - Agua de horchata $25\n",
            "9 - Agua de jamaica $25\n",
            "10 - Agua natural $15\n"
          ],
          "name": "stdout"
        }
      ]
    },
    {
      "cell_type": "markdown",
      "metadata": {
        "id": "mE8Rma0oLr7W"
      },
      "source": [
        "Parte 2: Venta"
      ]
    },
    {
      "cell_type": "code",
      "metadata": {
        "id": "O_0nF8DM5RsS",
        "outputId": "59dd6ee6-6e5c-4e94-e427-2df6513e02ae",
        "colab": {
          "base_uri": "https://localhost:8080/",
          "height": 207
        }
      },
      "source": [
        "consumo = [] # crear lista de consumo para guardar la compra\n",
        "total = 0 # total de compra\n",
        "\n",
        "while True:\n",
        "  print(\"Ingresa el ID de la comida que deseas:\")\n",
        "  comida = input() \n",
        "  \n",
        "  try:\n",
        "    if comida == \"*\": # si el valor es * se detiene\n",
        "      break\n",
        "    \n",
        "    elif int(comida) > 10 or int(comida) < 1: # validar ID con número, o también con el dato exacto, if any(comida in fila for fila in menu):\n",
        "      print(\"ID de comida no el menú, volver a intentar\")\n",
        "      continue\n",
        "\n",
        "  except ValueError: # si es otro dato diferente\n",
        "    print(\"Ingresa un ID válido, volver a intentar\")\n",
        "    continue\n",
        "\n",
        "  consumo.append(menu[int(comida)][1] +\" - $\" + str(int(menu[int(comida)][2]))) # agregar la comida y el precio a la lista de consumo, primero se indica el número de fila y luego el la columna\n",
        "\n",
        "  total = total + int(menu[int(comida)][2]) # sumar el precio al total\n",
        "\n",
        "print(\"Ticket de compra:\")\n",
        "\n",
        "for i in consumo: #imprimir el consumo\n",
        "  print(i)\n",
        "print(\"El total a pagar es $\"+ str(total))\n",
        "print(\"¡Buen provecho!\")"
      ],
      "execution_count": 31,
      "outputs": [
        {
          "output_type": "stream",
          "text": [
            "Ingresa el ID de la comida que deseas:\n",
            "1\n",
            "Ingresa el ID de la comida que deseas:\n",
            "9\n",
            "Ingresa el ID de la comida que deseas:\n",
            "*\n",
            "Ticket de compra:\n",
            "Orden de tacos - $80\n",
            "Agua de jamaica - $25\n",
            "El total a pagar es $105\n",
            "¡Buen provecho!\n"
          ],
          "name": "stdout"
        }
      ]
    },
    {
      "cell_type": "markdown",
      "metadata": {
        "id": "Tuxmo9IwQV_F"
      },
      "source": [
        "Parte 3: Impresión de ticket"
      ]
    },
    {
      "cell_type": "code",
      "metadata": {
        "id": "Xi3LlS859ICi"
      },
      "source": [
        "def ticket(consumo): # crear la función ticket con un argumeento\n",
        "  \n",
        "  f = open(\"ticket.txt\", \"w\") # abrir archivo para escribir\n",
        "\n",
        "  print(\"Ticket de compra:\", file = f) # guardar encabezado\n",
        "\n",
        "  for i in consumo: # recorrer la lista de consumo para imprimir lo comprado\n",
        "    print(i, file = f)\n",
        "  print(\"El total a pagar es $\", total, file = f) \n",
        "  print(\"¡Buen provecho!\", file = f)\n",
        "  f.close() # cerrar archivo\n",
        "\n",
        "ticket(consumo) # llamar a la función ticket() con el paramentro de la lista de consumo"
      ],
      "execution_count": 28,
      "outputs": []
    }
  ]
}